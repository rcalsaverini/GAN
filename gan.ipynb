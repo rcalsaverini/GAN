{
 "cells": [
  {
   "cell_type": "code",
   "execution_count": 22,
   "metadata": {
    "collapsed": false
   },
   "outputs": [],
   "source": [
    "import tensorflow as tf\n",
    "import numpy as np\n",
    "import pandas as pd\n",
    "from scipy import stats\n",
    "import random\n",
    "from tqdm import tqdm\n",
    "from IPython import display"
   ]
  },
  {
   "cell_type": "code",
   "execution_count": 2,
   "metadata": {
    "collapsed": false
   },
   "outputs": [
    {
     "name": "stderr",
     "output_type": "stream",
     "text": [
      "Using TensorFlow backend.\n"
     ]
    }
   ],
   "source": [
    "from keras import backend as K\n",
    "from keras.optimizers import Adam\n",
    "from keras.layers import Input, Dense, BatchNormalization, Dropout, Reshape, Activation, UpSampling2D, Convolution2D, Flatten\n",
    "from keras.layers.advanced_activations import LeakyReLU\n",
    "from keras.models import Model\n",
    "from keras.datasets import mnist"
   ]
  },
  {
   "cell_type": "code",
   "execution_count": 3,
   "metadata": {
    "collapsed": false
   },
   "outputs": [],
   "source": [
    "from matplotlib import pyplot as plt\n",
    "import seaborn as sns\n",
    "sns.set_style(\"white\")\n",
    "%matplotlib inline"
   ]
  },
  {
   "cell_type": "code",
   "execution_count": 4,
   "metadata": {
    "collapsed": true
   },
   "outputs": [],
   "source": [
    "from sklearn.datasets import make_blobs "
   ]
  },
  {
   "cell_type": "code",
   "execution_count": 5,
   "metadata": {
    "collapsed": true
   },
   "outputs": [],
   "source": [
    "sess = tf.Session()\n",
    "K.set_session(sess)"
   ]
  },
  {
   "cell_type": "code",
   "execution_count": 6,
   "metadata": {
    "collapsed": false,
    "scrolled": false
   },
   "outputs": [
    {
     "name": "stdout",
     "output_type": "stream",
     "text": [
      "0.0 1.0\n",
      "X_train shape: (60000, 28, 28, 1)\n",
      "60000 train samples\n",
      "10000 test samples\n"
     ]
    }
   ],
   "source": [
    "img_rows, img_cols = 28, 28\n",
    "\n",
    "# the data, shuffled and split between train and test sets\n",
    "(X_train, y_train), (X_test, y_test) = mnist.load_data()\n",
    "\n",
    "X_train = X_train.reshape(X_train.shape[0], img_rows, img_cols, 1)\n",
    "X_test = X_test.reshape(X_test.shape[0], img_rows, img_cols, 1)\n",
    "X_train = X_train.astype('float32')\n",
    "X_test = X_test.astype('float32')\n",
    "X_train /= 255\n",
    "X_test /= 255\n",
    "\n",
    "print(np.min(X_train), np.max(X_train))\n",
    "\n",
    "print('X_train shape:', X_train.shape)\n",
    "print(X_train.shape[0], 'train samples')\n",
    "print(X_test.shape[0], 'test samples')"
   ]
  },
  {
   "cell_type": "code",
   "execution_count": 7,
   "metadata": {
    "collapsed": true
   },
   "outputs": [],
   "source": [
    "def make_trainable(net, val):\n",
    "    net.trainable = val\n",
    "    for l in net.layers:\n",
    "        l.trainable = val"
   ]
  },
  {
   "cell_type": "code",
   "execution_count": 11,
   "metadata": {
    "collapsed": false,
    "scrolled": false
   },
   "outputs": [
    {
     "name": "stdout",
     "output_type": "stream",
     "text": [
      "____________________________________________________________________________________________________\n",
      "Layer (type)                     Output Shape          Param #     Connected to                     \n",
      "====================================================================================================\n",
      "input_4 (InputLayer)             (None, 100)           0                                            \n",
      "____________________________________________________________________________________________________\n",
      "dense_4 (Dense)                  (None, 784)           79184       input_4[0][0]                    \n",
      "____________________________________________________________________________________________________\n",
      "batchnormalization_10 (BatchNorm (None, 784)           3136        dense_4[0][0]                    \n",
      "____________________________________________________________________________________________________\n",
      "activation_13 (Activation)       (None, 784)           0           batchnormalization_10[0][0]      \n",
      "____________________________________________________________________________________________________\n",
      "reshape_4 (Reshape)              (None, 14, 14, 4)     0           activation_13[0][0]              \n",
      "____________________________________________________________________________________________________\n",
      "upsampling2d_4 (UpSampling2D)    (None, 28, 28, 4)     0           reshape_4[0][0]                  \n",
      "____________________________________________________________________________________________________\n",
      "convolution2d_10 (Convolution2D) (None, 28, 28, 2)     74          upsampling2d_4[0][0]             \n",
      "____________________________________________________________________________________________________\n",
      "batchnormalization_11 (BatchNorm (None, 28, 28, 2)     8           convolution2d_10[0][0]           \n",
      "____________________________________________________________________________________________________\n",
      "activation_14 (Activation)       (None, 28, 28, 2)     0           batchnormalization_11[0][0]      \n",
      "____________________________________________________________________________________________________\n",
      "convolution2d_11 (Convolution2D) (None, 28, 28, 1)     19          activation_14[0][0]              \n",
      "____________________________________________________________________________________________________\n",
      "batchnormalization_12 (BatchNorm (None, 28, 28, 1)     4           convolution2d_11[0][0]           \n",
      "____________________________________________________________________________________________________\n",
      "activation_15 (Activation)       (None, 28, 28, 1)     0           batchnormalization_12[0][0]      \n",
      "____________________________________________________________________________________________________\n",
      "convolution2d_12 (Convolution2D) (None, 28, 28, 1)     2           activation_15[0][0]              \n",
      "____________________________________________________________________________________________________\n",
      "activation_16 (Activation)       (None, 28, 28, 1)     0           convolution2d_12[0][0]           \n",
      "====================================================================================================\n",
      "Total params: 82,427\n",
      "Trainable params: 80,853\n",
      "Non-trainable params: 1,574\n",
      "____________________________________________________________________________________________________\n"
     ]
    }
   ],
   "source": [
    "def build_generator(optimizer, num_channels=100):\n",
    "    generator_input = Input(shape=[100])\n",
    "    hidden_unit = Dense(num_channels*14*14, init='glorot_normal')(generator_input)\n",
    "    hidden_unit = BatchNormalization(mode=2)(hidden_unit)\n",
    "    hidden_unit = Activation('relu')(hidden_unit)\n",
    "    hidden_unit = Reshape( [14, 14, num_channels] )(hidden_unit)\n",
    "    hidden_unit = UpSampling2D(size=(2, 2))(hidden_unit)\n",
    "\n",
    "    hidden_unit = Convolution2D(int(num_channels/2), 3, 3, border_mode='same', init='glorot_uniform')(hidden_unit)\n",
    "    hidden_unit = BatchNormalization(mode=2)(hidden_unit)\n",
    "    hidden_unit = Activation('relu')(hidden_unit)\n",
    "\n",
    "    hidden_unit = Convolution2D(int(num_channels/4), 3, 3, border_mode='same', init='glorot_uniform')(hidden_unit)\n",
    "    hidden_unit = BatchNormalization(mode=2)(hidden_unit)\n",
    "    hidden_unit = Activation('relu')(hidden_unit)\n",
    "\n",
    "    hidden_unit = Convolution2D(1, 1, 1, border_mode='same', init='glorot_uniform')(hidden_unit)\n",
    "    generator_output = Activation('sigmoid')(hidden_unit)\n",
    "    \n",
    "    generator = Model(generator_input, generator_output)\n",
    "    generator.compile(loss='binary_crossentropy', optimizer=optimizer)\n",
    "    return generator\n",
    "\n",
    "optimizer = Adam(lr=1e-4)\n",
    "generator = build_generator(optimizer, num_channels=4)\n",
    "generator.summary()\n"
   ]
  },
  {
   "cell_type": "code",
   "execution_count": 12,
   "metadata": {
    "collapsed": false
   },
   "outputs": [
    {
     "name": "stdout",
     "output_type": "stream",
     "text": [
      "____________________________________________________________________________________________________\n",
      "Layer (type)                     Output Shape          Param #     Connected to                     \n",
      "====================================================================================================\n",
      "input_5 (InputLayer)             (None, 28, 28, 1)     0                                            \n",
      "____________________________________________________________________________________________________\n",
      "convolution2d_13 (Convolution2D) (None, 14, 14, 5)     6405        input_5[0][0]                    \n",
      "____________________________________________________________________________________________________\n",
      "leakyrelu_1 (LeakyReLU)          (None, 14, 14, 5)     0           convolution2d_13[0][0]           \n",
      "____________________________________________________________________________________________________\n",
      "dropout_1 (Dropout)              (None, 14, 14, 5)     0           leakyrelu_1[0][0]                \n",
      "____________________________________________________________________________________________________\n",
      "convolution2d_14 (Convolution2D) (None, 7, 7, 512)     64512       dropout_1[0][0]                  \n",
      "____________________________________________________________________________________________________\n",
      "leakyrelu_2 (LeakyReLU)          (None, 7, 7, 512)     0           convolution2d_14[0][0]           \n",
      "____________________________________________________________________________________________________\n",
      "dropout_2 (Dropout)              (None, 7, 7, 512)     0           leakyrelu_2[0][0]                \n",
      "____________________________________________________________________________________________________\n",
      "flatten_1 (Flatten)              (None, 25088)         0           dropout_2[0][0]                  \n",
      "____________________________________________________________________________________________________\n",
      "dense_5 (Dense)                  (None, 256)           6422784     flatten_1[0][0]                  \n",
      "____________________________________________________________________________________________________\n",
      "leakyrelu_3 (LeakyReLU)          (None, 256)           0           dense_5[0][0]                    \n",
      "____________________________________________________________________________________________________\n",
      "dropout_3 (Dropout)              (None, 256)           0           leakyrelu_3[0][0]                \n",
      "____________________________________________________________________________________________________\n",
      "dense_6 (Dense)                  (None, 2)             514         dropout_3[0][0]                  \n",
      "====================================================================================================\n",
      "Total params: 6,494,215\n",
      "Trainable params: 6,494,215\n",
      "Non-trainable params: 0\n",
      "____________________________________________________________________________________________________\n"
     ]
    }
   ],
   "source": [
    "def build_discriminator(optimizer, shape=(28, 28, 1), dropout_rate=0.1):\n",
    "    discriminator_input = Input(shape=shape)\n",
    "    hidden_unit = Convolution2D(5, 5, 256, subsample=(2, 2), border_mode='same', activation='relu')(discriminator_input)\n",
    "    hidden_unit = LeakyReLU(0.2)(hidden_unit)\n",
    "    hidden_unit = Dropout(dropout_rate)(hidden_unit)\n",
    "    hidden_unit = Convolution2D(512, 5, 5, subsample=(2, 2), border_mode='same', activation='relu')(hidden_unit)\n",
    "    hidden_unit = LeakyReLU(0.2)(hidden_unit)\n",
    "    hidden_unit = Dropout(dropout_rate)(hidden_unit)\n",
    "    hidden_unit = Flatten()(hidden_unit)\n",
    "    hidden_unit = Dense(256)(hidden_unit)\n",
    "    hidden_unit = LeakyReLU(0.2)(hidden_unit)\n",
    "    hidden_unit = Dropout(dropout_rate)(hidden_unit)\n",
    "    discriminator_output = Dense(2,activation='softmax')(hidden_unit)\n",
    "    discriminator = Model(discriminator_input, discriminator_output)\n",
    "    discriminator.compile(loss='categorical_crossentropy', optimizer=optimizer)\n",
    "    return discriminator\n",
    "\n",
    "d_optimizer = Adam(lr=1e-4)\n",
    "discriminator = build_discriminator(d_optimizer)\n",
    "discriminator.summary()\n"
   ]
  },
  {
   "cell_type": "code",
   "execution_count": 39,
   "metadata": {
    "collapsed": true
   },
   "outputs": [],
   "source": [
    "def plot_loss(losses):\n",
    "    display.clear_output(wait=True)\n",
    "    display.display(plt.gcf())\n",
    "    plt.figure(figsize=(10,8))\n",
    "    ax = plt.axes()\n",
    "    ax.plot(losses[\"d\"], label='discriminitive loss', color='red')\n",
    "    ax.twinx().plot(losses[\"g\"], label='generative loss')\n",
    "    plt.legend()\n",
    "    plt.show()\n",
    "\n",
    "def plot_gen(n_ex=16,dim=(4,4), figsize=(10,10) ):\n",
    "    noise = np.random.uniform(0,1,size=[n_ex,100])\n",
    "    generated_images = generator.predict(noise)\n",
    "\n",
    "    plt.figure(figsize=figsize)\n",
    "    for i in range(generated_images.shape[0]):\n",
    "        plt.subplot(dim[0],dim[1],i+1)\n",
    "        img = generated_images[i,0,:,:]\n",
    "        plt.imshow(img)\n",
    "        plt.axis('off')\n",
    "    plt.tight_layout()\n",
    "    plt.show()"
   ]
  },
  {
   "cell_type": "code",
   "execution_count": 14,
   "metadata": {
    "collapsed": false,
    "scrolled": false
   },
   "outputs": [
    {
     "name": "stdout",
     "output_type": "stream",
     "text": [
      "____________________________________________________________________________________________________\n",
      "Layer (type)                     Output Shape          Param #     Connected to                     \n",
      "====================================================================================================\n",
      "input_6 (InputLayer)             (None, 100)           0                                            \n",
      "____________________________________________________________________________________________________\n",
      "model_4 (Model)                  (None, 28, 28, 1)     82427       input_6[0][0]                    \n",
      "____________________________________________________________________________________________________\n",
      "model_5 (Model)                  (None, 2)             6494215     model_4[1][0]                    \n",
      "====================================================================================================\n",
      "Total params: 6,576,642\n",
      "Trainable params: 80,853\n",
      "Non-trainable params: 6,495,789\n",
      "____________________________________________________________________________________________________\n"
     ]
    }
   ],
   "source": [
    "init = tf.global_variables_initializer()\n",
    "sess.run(init)\n",
    "\n",
    "# Freeze weights in the discriminator for stacked training\n",
    "make_trainable(discriminator, False)\n",
    "\n",
    "# Build stacked GAN model\n",
    "gan_input = Input(shape=[100])\n",
    "GAN = Model(gan_input, discriminator(generator(gan_input)))\n",
    "GAN.compile(loss='binary_crossentropy', optimizer=optimizer)\n",
    "GAN.summary()"
   ]
  },
  {
   "cell_type": "code",
   "execution_count": 15,
   "metadata": {
    "collapsed": false,
    "scrolled": false
   },
   "outputs": [],
   "source": [
    "with sess.as_default():\n",
    "    h = GAN(gan_input).eval(feed_dict={gan_input: np.random.normal(size=(10, 100)), K.learning_phase(): True})"
   ]
  },
  {
   "cell_type": "code",
   "execution_count": 16,
   "metadata": {
    "collapsed": false
   },
   "outputs": [
    {
     "name": "stdout",
     "output_type": "stream",
     "text": [
      "Epoch 1/1\n",
      "20000/20000 [==============================] - 81s - loss: 0.0413    \n"
     ]
    }
   ],
   "source": [
    "\n",
    "ntrain = 10000\n",
    "trainidx = random.sample(range(0,X_train.shape[0]), ntrain)\n",
    "XT = X_train[trainidx,:,:,:]\n",
    "\n",
    "# Pre-train the discriminator network ...\n",
    "noise_gen = np.random.uniform(0,1,size=[XT.shape[0],100])\n",
    "generated_images = generator.predict(noise_gen)\n",
    "X = np.concatenate((XT, generated_images))\n",
    "n = XT.shape[0]\n",
    "y = np.zeros([2*n,2])\n",
    "y[:n,1] = 1\n",
    "y[n:,0] = 1\n",
    "\n",
    "make_trainable(discriminator,True)\n",
    "discriminator.fit(X,y, nb_epoch=1, batch_size=128)\n",
    "y_hat = discriminator.predict(X)"
   ]
  },
  {
   "cell_type": "code",
   "execution_count": 20,
   "metadata": {
    "collapsed": true
   },
   "outputs": [],
   "source": [
    "losses = {'g': [], 'd': []}"
   ]
  },
  {
   "cell_type": "code",
   "execution_count": 40,
   "metadata": {
    "collapsed": false,
    "scrolled": false
   },
   "outputs": [
    {
     "data": {
      "text/plain": [
       "<matplotlib.figure.Figure at 0x7ff7d0985048>"
      ]
     },
     "metadata": {},
     "output_type": "display_data"
    },
    {
     "data": {
      "text/plain": [
       "<matplotlib.figure.Figure at 0x7ff7d0985048>"
      ]
     },
     "metadata": {},
     "output_type": "display_data"
    },
    {
     "data": {
      "image/png": "[encoded data removed]",
      "text/plain": [
       "<matplotlib.figure.Figure at 0x7ff7ccd76278>"
      ]
     },
     "metadata": {},
     "output_type": "display_data"
    },
    {
     "name": "stderr",
     "output_type": "stream",
     "text": [
      "100%|██████████| 5000/5000 [40:17:09<00:00,  2.44it/s]\n"
     ]
    }
   ],
   "source": [
    "BATCH_SIZE = 32\n",
    "nb_epoch = 5000\n",
    "plt_frq = 25\n",
    "\n",
    "for e in tqdm(range(nb_epoch)):\n",
    "    \n",
    "    # Make generative images\n",
    "    image_batch = X_train[np.random.randint(0,X_train.shape[0],size=BATCH_SIZE),:,:,:]    \n",
    "    noise_gen = np.random.uniform(0,1,size=[BATCH_SIZE,100])\n",
    "    generated_images = generator.predict(noise_gen)\n",
    "    \n",
    "    # Train discriminator on generated images\n",
    "    X = np.concatenate((image_batch, generated_images))\n",
    "    y = np.zeros([2*BATCH_SIZE,2])\n",
    "    y[0:BATCH_SIZE,1] = 1\n",
    "    y[BATCH_SIZE:,0] = 1\n",
    "    \n",
    "    #make_trainable(discriminator,True)\n",
    "    d_loss  = discriminator.train_on_batch(X,y)\n",
    "    losses[\"d\"].append(d_loss)\n",
    "\n",
    "    # train Generator-Discriminator stack on input noise to non-generated output class\n",
    "    noise_tr = np.random.uniform(0,1,size=[BATCH_SIZE,100])\n",
    "    y2 = np.zeros([BATCH_SIZE,2])\n",
    "    y2[:,1] = 1\n",
    "    \n",
    "    #make_trainable(discriminator,False)\n",
    "    g_loss = GAN.train_on_batch(noise_tr, y2 )\n",
    "    losses[\"g\"].append(g_loss)\n",
    "    \n",
    "    # Updates plots\n",
    "    if e % plt_frq == 0:\n",
    "        plot_loss(losses)\n",
    "#         plot_gen()\n"
   ]
  },
  {
   "cell_type": "code",
   "execution_count": null,
   "metadata": {
    "collapsed": true
   },
   "outputs": [],
   "source": []
  }
 ],
 "metadata": {
  "anaconda-cloud": {},
  "kernelspec": {
   "display_name": "Python 3",
   "language": "python",
   "name": "python3"
  },
  "language_info": {
   "codemirror_mode": {
    "name": "ipython",
    "version": 3
   },
   "file_extension": ".py",
   "mimetype": "text/x-python",
   "name": "python",
   "nbconvert_exporter": "python",
   "pygments_lexer": "ipython3",
   "version": "3.5.2"
  }
 },
 "nbformat": 4,
 "nbformat_minor": 1
}
